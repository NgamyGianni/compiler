{
 "cells": [
  {
   "cell_type": "code",
   "execution_count": 1,
   "metadata": {},
   "outputs": [
    {
     "data": {
      "text/plain": [
       "[]"
      ]
     },
     "execution_count": 1,
     "metadata": {},
     "output_type": "execute_result"
    }
   ],
   "source": [
    "f = open(\"test.txt\", \"r\")\n",
    "\n",
    "keys = [\"await\", \"break\", \"case\", \"catch\", \"class\", \"const\", \"continue\", \"debugger\", \"default\",\n",
    "        \"delete\", \"do\", \"else\", \"enum\", \"export\", \"extends\", \"false\", \"finally\", \"for\", \"function\",\n",
    "        \"if\", \"implements\", \"import\", \"in\", \"instanceof\", \"interface\", \"let\", \"new\", \"null\", \"package\",\n",
    "        \"private\", \"protected\", \"public\", \"return\", \"super\", \"switch\", \"static\", \"this\", \"throw\", \"try\",\n",
    "        \"true\", \"typeof\", \"var\", \"void\", \"while\", \"with\", \"yield\"]\n",
    "\n",
    "L = []\n",
    "\n",
    "#for sentence in f.read().split(\"\\n\"):\n",
    "#    print(sentence)\n",
    "#f.close()\n",
    "            \n",
    "L"
   ]
  },
  {
   "cell_type": "code",
   "execution_count": 43,
   "metadata": {},
   "outputs": [
    {
     "name": "stdout",
     "output_type": "stream",
     "text": [
      "['const', 'y', '=', 'f(x);']\n",
      "['const', 'Y', '=', '5.;', '//', 'hi']\n",
      "['const', 'test', '=', '\"ok\";']\n",
      "[{'name': 'y', 'value': 'f(x)', 'type': 'function'}, {'name': 'Y', 'value': '5.', 'type': 'float'}, {'name': 'test', 'value': '\"ok\"', 'type': 'string'}]\n"
     ]
    }
   ],
   "source": [
    "class constant :\n",
    "    \n",
    "    def __init__(self, name, value):\n",
    "        self.name = name\n",
    "        self.value = value\n",
    "        \n",
    "        if '\"'in value:\n",
    "            self.type = \"string\"\n",
    "        elif '.' in value:\n",
    "            self.type = \"float\"\n",
    "        elif \"(\" in value and \")\" in value:\n",
    "            self.type = \"function\"\n",
    "        else:\n",
    "            self.type = \"int\"\n",
    "                \n",
    "        self.struct = {\"name\" : self.name, \"value\" : self.value, \"type\" : self.type}\n",
    "        \n",
    "    def toString(self):\n",
    "        return self.struct\n",
    "    \n",
    "def wordsLineCleared(line):\n",
    "    return [word for word in line if word != \"\"]\n",
    "\n",
    "def stringToLines(s):\n",
    "    return [word.split(\" \") for word in s.split(\"\\n\")]\n",
    "\n",
    "def linesToLine(lines):\n",
    "    return [word for line in lines for word in line]\n",
    "\n",
    "def lineToList(line, index):\n",
    "    return ''.join(line[index:])\n",
    "\n",
    "def checkKeyword(keyword, s):\n",
    "    lines = stringToLines(s)\n",
    "    return keyword in linesToLine(lines)\n",
    "\n",
    "def verifyLine(keyword, line):\n",
    "    clearLine = wordsLineCleared(line)\n",
    "    print(clearLine)\n",
    "    return len(clearLine) >= 4 and clearLine[0] == keyword and clearLine[2] == \"=\" and \";\" in lineToList(clearLine, 2)\n",
    "\n",
    "def constrKeyword(s, keyword):\n",
    "    return [constant(wordsLineCleared(line)[1], wordsLineCleared(line)[3].split(\";\")[0]) for line in stringToLines(s) if keyword in line if verifyLine(keyword, line)]\n",
    "\n",
    "f = open(\"test.txt\", \"r\")\n",
    "\n",
    "s = f.read()\n",
    "\n",
    "targets = constrKeyword(s, \"const\")\n",
    "\n",
    "print([e.toString() for e in targets])\n",
    "\n",
    "f.close()"
   ]
  },
  {
   "cell_type": "markdown",
   "metadata": {},
   "source": [
    "mots clés : def, return, print, mot+(), :, \",\", \"\", ''\n",
    "\n",
    "\n",
    "tokenization + parser + evaluation"
   ]
  },
  {
   "cell_type": "markdown",
   "metadata": {},
   "source": []
  }
 ],
 "metadata": {
  "interpreter": {
   "hash": "949777d72b0d2535278d3dc13498b2535136f6dfe0678499012e853ee9abcab1"
  },
  "kernelspec": {
   "display_name": "Python 3.7.1 64-bit",
   "language": "python",
   "name": "python3"
  },
  "language_info": {
   "codemirror_mode": {
    "name": "ipython",
    "version": 3
   },
   "file_extension": ".py",
   "mimetype": "text/x-python",
   "name": "python",
   "nbconvert_exporter": "python",
   "pygments_lexer": "ipython3",
   "version": "3.7.1"
  },
  "orig_nbformat": 4
 },
 "nbformat": 4,
 "nbformat_minor": 2
}
