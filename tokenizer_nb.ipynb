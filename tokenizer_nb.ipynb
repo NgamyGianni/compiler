{
 "cells": [
  {
   "cell_type": "code",
   "execution_count": 34,
   "metadata": {},
   "outputs": [
    {
     "data": {
      "text/plain": [
       "['const', 'const']"
      ]
     },
     "execution_count": 34,
     "metadata": {},
     "output_type": "execute_result"
    }
   ],
   "source": [
    "f = open(\"test.txt\", \"r\")\n",
    "\n",
    "keys = [\"await\", \"break\", \"case\", \"catch\", \"class\", \"const\", \"continue\", \"debugger\", \"default\",\n",
    "        \"delete\", \"do\", \"else\", \"enum\", \"export\", \"extends\", \"false\", \"finally\", \"for\", \"function\",\n",
    "        \"if\", \"implements\", \"import\", \"in\", \"instanceof\", \"interface\", \"let\", \"new\", \"null\", \"package\",\n",
    "        \"private\", \"protected\", \"public\", \"return\", \"super\", \"switch\", \"static\", \"this\", \"throw\", \"try\",\n",
    "        \"true\", \"typeof\", \"var\", \"void\", \"while\", \"with\", \"yield\"]\n",
    "\n",
    "L = []\n",
    "\n",
    "for sentence in f.read().split(\"\\n\"):\n",
    "    for word in sentence.split(\" \"):\n",
    "        if word in keys:\n",
    "            L.append(word)\n",
    "            \n",
    "L"
   ]
  },
  {
   "cell_type": "markdown",
   "metadata": {},
   "source": [
    "mots clés : def, return, print, mot+(), :, \",\", \"\", ''\n",
    "\n",
    "\n",
    "tokenization + parser + evaluation"
   ]
  },
  {
   "cell_type": "markdown",
   "metadata": {},
   "source": []
  }
 ],
 "metadata": {
  "interpreter": {
   "hash": "949777d72b0d2535278d3dc13498b2535136f6dfe0678499012e853ee9abcab1"
  },
  "kernelspec": {
   "display_name": "Python 3.7.1 64-bit",
   "language": "python",
   "name": "python3"
  },
  "language_info": {
   "codemirror_mode": {
    "name": "ipython",
    "version": 3
   },
   "file_extension": ".py",
   "mimetype": "text/x-python",
   "name": "python",
   "nbconvert_exporter": "python",
   "pygments_lexer": "ipython3",
   "version": "3.7.1"
  },
  "orig_nbformat": 4
 },
 "nbformat": 4,
 "nbformat_minor": 2
}
