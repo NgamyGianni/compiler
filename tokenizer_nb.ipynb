{
 "cells": [
  {
   "cell_type": "code",
   "execution_count": 1,
   "metadata": {},
   "outputs": [
    {
     "data": {
      "text/plain": [
       "[]"
      ]
     },
     "execution_count": 1,
     "metadata": {},
     "output_type": "execute_result"
    }
   ],
   "source": [
    "f = open(\"test.txt\", \"r\")\n",
    "\n",
    "keys = [\"await\", \"break\", \"case\", \"catch\", \"class\", \"const\", \"continue\", \"debugger\", \"default\",\n",
    "        \"delete\", \"do\", \"else\", \"enum\", \"export\", \"extends\", \"false\", \"finally\", \"for\", \"function\",\n",
    "        \"if\", \"implements\", \"import\", \"in\", \"instanceof\", \"interface\", \"let\", \"new\", \"null\", \"package\",\n",
    "        \"private\", \"protected\", \"public\", \"return\", \"super\", \"switch\", \"static\", \"this\", \"throw\", \"try\",\n",
    "        \"true\", \"typeof\", \"var\", \"void\", \"while\", \"with\", \"yield\"]\n",
    "\n",
    "L = []\n",
    "\n",
    "#for sentence in f.read().split(\"\\n\"):\n",
    "#    print(sentence)\n",
    "#f.close()\n",
    "            \n",
    "L"
   ]
  },
  {
   "cell_type": "code",
   "execution_count": 205,
   "metadata": {},
   "outputs": [
    {
     "name": "stdout",
     "output_type": "stream",
     "text": [
      "[{'name': 'y', 'value': 'f(x)', 'type': 'function'}, {'name': 'test', 'value': '\"ok\"', 'type': 'string'}]\n"
     ]
    }
   ],
   "source": [
    "class constant :\n",
    "    \n",
    "    def __init__(self, name, value):\n",
    "        self.name = name\n",
    "        self.value = value\n",
    "        self.struct = {\"name\" : self.name, \"value\" : self.value}\n",
    "        \n",
    "        if '\"'in value:\n",
    "            self.type = \"string\"\n",
    "        elif '.' in value:\n",
    "            self.type = \"float\"\n",
    "        elif \"(\" in value and \")\" in value:\n",
    "            self.type = \"function\"\n",
    "        else:\n",
    "            self.type = \"int\"\n",
    "                \n",
    "        self.struct[\"type\"] = self.type\n",
    "        \n",
    "    def toString(self):\n",
    "        return self.struct\n",
    "    \n",
    "def wordsLineCleared(line):\n",
    "    return [word for word in line if word != \"\"]\n",
    "\n",
    "def stringToLines(s):\n",
    "    return [word.split(\" \") for word in s.split(\"\\n\")]\n",
    "\n",
    "def linesToLine(lines):\n",
    "    return [word for line in lines for word in line]\n",
    "\n",
    "def lineToList(line, index):\n",
    "    return ''.join(line[index:])\n",
    "\n",
    "def checkKeyword(keyword, s):\n",
    "    lines = stringToLines(s)\n",
    "    return keyword in linesToLine(lines)\n",
    "\n",
    "def verifyLine_init(keyword, line):\n",
    "    clearLine = wordsLineCleared(line)\n",
    "    if keyword == \"\":\n",
    "        return len(clearLine) >= 3 and clearLine[1] == \"=\" and \";\" in lineToList(clearLine, 2)\n",
    "    return len(clearLine) >= 4 and clearLine[0] == keyword and clearLine[2] == \"=\" and \";\" in lineToList(clearLine, 2)\n",
    "\n",
    "def constrKeyword(s, keyword):\n",
    "    if keyword == \"\":\n",
    "        return [constant(wordsLineCleared(line)[0], wordsLineCleared(line)[2].split(\";\")[0]) for line in stringToLines(s) if verifyLine_affectation(keyword, line)]\n",
    "    return [constant(wordsLineCleared(line)[1], wordsLineCleared(line)[3].split(\";\")[0]) for line in stringToLines(s) if keyword in line if verifyLine_init(keyword, line)]\n",
    "\n",
    "f = open(\"test.txt\", \"r\")\n",
    "\n",
    "s = f.read()\n",
    "\n",
    "targets = constrKeyword(s, \"const\")\n",
    "\n",
    "print([e.toString() for e in targets])\n",
    "\n",
    "f.close()"
   ]
  },
  {
   "cell_type": "code",
   "execution_count": 101,
   "metadata": {},
   "outputs": [
    {
     "data": {
      "text/plain": [
       "('abd.test', ['x', 'y', 'z'])"
      ]
     },
     "execution_count": 101,
     "metadata": {},
     "output_type": "execute_result"
    }
   ],
   "source": [
    "s = 'abd.test(x, y, z)'\n",
    "\n",
    "l1 = s.split(\"(\")\n",
    "name = l1[0]\n",
    "l2 = l1[1].split(\")\")\n",
    "l3 = l2[0].split(',')\n",
    "values = \"\".join(l3).split(\" \")\n",
    "values = wordsLineCleared(values)\n",
    "name, values"
   ]
  },
  {
   "cell_type": "code",
   "execution_count": 266,
   "metadata": {},
   "outputs": [
    {
     "name": "stdout",
     "output_type": "stream",
     "text": [
      "{'var': []}\n",
      "{'var': [], 'const': [{'name': 'y', 'value': 'f(x)', 'type': 'function'}, {'name': 'test', 'value': '\"ok\"', 'type': 'string'}]}\n",
      "{'var': [], 'const': [{'name': 'y', 'value': 'f(x)', 'type': 'function'}, {'name': 'test', 'value': '\"ok\"', 'type': 'string'}], 'let': [{'name': 'Y', 'value': '5.', 'type': 'float'}]}\n",
      "{'var': [], 'const': [{'name': 'y', 'value': 'f(x)', 'type': 'function'}, {'name': 'test', 'value': '\"ok\"', 'type': 'string'}], 'let': [{'name': 'Y', 'value': '5.', 'type': 'float'}], '': [{'name': 'y', 'value': 'f(o)', 'type': 'function'}]}\n"
     ]
    }
   ],
   "source": [
    "f = open(\"test.txt\", \"r\")\n",
    "\n",
    "s = f.read()\n",
    "\n",
    "res  = dict()\n",
    "\n",
    "for keyword in [\"var\", \"const\", \"let\", \"\"]:\n",
    "    targets = constrKeyword(s, keyword)\n",
    "\n",
    "    res[keyword] = [e.toString() for e in targets]\n",
    "    \n",
    "    print(res)\n",
    "\n",
    "f.close()"
   ]
  },
  {
   "cell_type": "code",
   "execution_count": 267,
   "metadata": {},
   "outputs": [
    {
     "name": "stdout",
     "output_type": "stream",
     "text": [
      "False\n",
      "True\n"
     ]
    }
   ],
   "source": [
    "# errors and warnings\n",
    "# varType = const, var, let, \"\"\n",
    "\n",
    "\n",
    "keys = [\"var\", \"let\", \"const\", \"\"]\n",
    "\n",
    "def sameNames(dico):\n",
    "    # check si un nom de variable est utilisé dans un autre varType (sauf affectation)\n",
    "    \n",
    "    vu = set()\n",
    "    for key in dico:\n",
    "        for element in dico[key]:\n",
    "            if not (element[\"name\"] in vu):\n",
    "                vu.add(element[\"name\"])\n",
    "            elif key == \"\":\n",
    "                continue\n",
    "            else:\n",
    "                return True\n",
    "            \n",
    "    return False\n",
    "\n",
    "def affect_key(dico, target):\n",
    "    # check si un nom de variable est utilisé dans un autre varType (sauf affectation) centré sur un varType\n",
    "    \n",
    "    consts = getNamesDico(target, dico)\n",
    "    keys_tmp = keys[:]\n",
    "    keys_tmp.remove(target)\n",
    "    \n",
    "    for keyword in keys_tmp:\n",
    "        names = getNamesDico(keyword, dico)\n",
    "        for i in range(len(names)):\n",
    "            if names[i] in consts:\n",
    "                return True\n",
    "    return False\n",
    "\n",
    "# utils\n",
    "\n",
    "def getNamesDico(keyword, dico):\n",
    "    return [res[keyword][i][\"name\"] for i in range(len(res[keyword]))]\n",
    "\n",
    "print(sameNames(res))\n",
    "print(affect_key(res, \"const\"))"
   ]
  },
  {
   "cell_type": "markdown",
   "metadata": {},
   "source": [
    "mots clés : def, return, print, mot+(), :, \",\", \"\", ''\n",
    "\n",
    "\n",
    "tokenization + parser + evaluation"
   ]
  }
 ],
 "metadata": {
  "interpreter": {
   "hash": "949777d72b0d2535278d3dc13498b2535136f6dfe0678499012e853ee9abcab1"
  },
  "kernelspec": {
   "display_name": "Python 3.7.1 64-bit",
   "language": "python",
   "name": "python3"
  },
  "language_info": {
   "codemirror_mode": {
    "name": "ipython",
    "version": 3
   },
   "file_extension": ".py",
   "mimetype": "text/x-python",
   "name": "python",
   "nbconvert_exporter": "python",
   "pygments_lexer": "ipython3",
   "version": "3.7.1"
  },
  "orig_nbformat": 4
 },
 "nbformat": 4,
 "nbformat_minor": 2
}
